{
 "cells": [
  {
   "cell_type": "code",
   "execution_count": 3,
   "id": "23064044-c97f-498c-9f57-99f67fe8d4fd",
   "metadata": {},
   "outputs": [
    {
     "name": "stdout",
     "output_type": "stream",
     "text": [
      "Set parameter NonConvex to value 2\n",
      "Gurobi Optimizer version 10.0.1 build v10.0.1rc0 (win64)\n",
      "\n",
      "CPU model: Intel(R) Core(TM) i5-10210U CPU @ 1.60GHz, instruction set [SSE2|AVX|AVX2]\n",
      "Thread count: 4 physical cores, 8 logical processors, using up to 8 threads\n",
      "\n",
      "Optimize a model with 20 rows, 11 columns and 20 nonzeros\n",
      "Model fingerprint: 0x9d7ded69\n",
      "Model has 1 quadratic constraint\n",
      "Coefficient statistics:\n",
      "  Matrix range     [1e+00, 1e+00]\n",
      "  QMatrix range    [1e+00, 1e+00]\n",
      "  Objective range  [1e+00, 1e+00]\n",
      "  Bounds range     [1e+00, 1e+01]\n",
      "  RHS range        [1e+00, 1e+01]\n",
      "Presolve removed 20 rows and 0 columns\n",
      "\n",
      "Continuous model is non-convex -- solving as a MIP\n",
      "\n",
      "Found heuristic solution: objective -0.0000000\n",
      "Presolve removed 20 rows and 0 columns\n",
      "Presolve time: 0.01s\n",
      "Presolved: 31 rows, 26 columns, 95 nonzeros\n",
      "Presolved model has 15 bilinear constraint(s)\n",
      "Variable types: 26 continuous, 0 integer (0 binary)\n",
      "\n",
      "Root relaxation: objective 1.262626e+01, 28 iterations, 0.00 seconds (0.00 work units)\n",
      "\n",
      "    Nodes    |    Current Node    |     Objective Bounds      |     Work\n",
      " Expl Unexpl |  Obj  Depth IntInf | Incumbent    BestBd   Gap | It/Node Time\n",
      "\n",
      "     0     0   12.62626    0   15   -0.00000   12.62626      -     -    0s\n",
      "H    0     0                       1.4898990   12.62626   747%     -    0s\n",
      "H    0     0                       3.3333333   12.62626   279%     -    0s\n",
      "     0     0    9.52128    0   15    3.33333    9.52128   186%     -    0s\n",
      "     0     2    9.52128    0   15    3.33333    9.52128   186%     -    0s\n",
      "*    8     0               4       3.3333333    3.33333  0.00%  12.3    0s\n",
      "\n",
      "Explored 9 nodes (126 simplex iterations) in 0.06 seconds (0.00 work units)\n",
      "Thread count was 8 (of 8 available processors)\n",
      "\n",
      "Solution count 3: 3.33333 1.4899 -0 \n",
      "\n",
      "Optimal solution found (tolerance 1.00e-04)\n",
      "Best objective 3.333333333333e+00, best bound 3.333333333333e+00, gap 0.0000%\n"
     ]
    },
    {
     "data": {
      "text/plain": [
       "[(10.0, 5.0), (10.0, 5.0), (10.0, 5.0), (10.0, 5.0), (10.0, 5.000000000000001)]"
      ]
     },
     "execution_count": 3,
     "metadata": {},
     "output_type": "execute_result"
    }
   ],
   "source": [
    "import gurobipy as gp\n",
    "from gurobipy import GRB\n",
    "\n",
    "def formulate_optimization_problem(N, P_min, P_max, F_min, F_max):\n",
    "    # Create a new model\n",
    "    m = gp.Model(\"EnergyEfficiencyOptimization\")\n",
    "\n",
    "    # Decision Variables\n",
    "    p = m.addVars(N, vtype=GRB.CONTINUOUS, lb=P_min, ub=P_max, name=\"power\")\n",
    "    f = m.addVars(N, vtype=GRB.CONTINUOUS, lb=F_min, ub=F_max, name=\"frequency\")\n",
    "    z = m.addVar(vtype=GRB.CONTINUOUS, name=\"auxiliary\")  # Auxiliary variable\n",
    "\n",
    "    # Objective Function\n",
    "    D = sum(p[i] * f[i] for i in range(N))  # Placeholder representation for processed data\n",
    "    E_total = sum(p[i] + f[i] for i in range(N))  # Placeholder representation for total energy\n",
    "    \n",
    "    m.setObjective(z, GRB.MAXIMIZE)  # Adjusted objective\n",
    "\n",
    "    # Constraints\n",
    "    # Power constraints\n",
    "    for i in range(N):\n",
    "        m.addConstr(p[i] >= P_min, name=f\"MinPower_Task_{i}\")\n",
    "        m.addConstr(p[i] <= P_max, name=f\"MaxPower_Task_{i}\")\n",
    "\n",
    "    # Frequency constraints\n",
    "    for i in range(N):\n",
    "        m.addConstr(f[i] >= F_min, name=f\"MinFreq_Task_{i}\")\n",
    "        m.addConstr(f[i] <= F_max, name=f\"MaxFreq_Task_{i}\")\n",
    "\n",
    "    # Reformulated constraint for the division\n",
    "    m.addConstr(z * E_total <= D, name=\"Reformulated_Objective\")\n",
    "\n",
    "    # Set NonConvex parameter to handle non-convex quadratic programs\n",
    "    m.setParam(GRB.Param.NonConvex, 2)\n",
    "    \n",
    "    # Optimize the model\n",
    "    m.optimize()\n",
    "    \n",
    "    # Return results\n",
    "    if m.status == GRB.OPTIMAL:\n",
    "        results = [(p[i].x, f[i].x) for i in range(N)]\n",
    "        return results\n",
    "    else:\n",
    "        return \"No solution found!\"\n",
    "\n",
    "# Sample parameters\n",
    "N = 5  # For example, 5 tasks\n",
    "P_min = 1  # Minimum power\n",
    "P_max = 10  # Maximum power\n",
    "F_min = 1  # Minimum frequency\n",
    "F_max = 5  # Maximum frequency\n",
    "\n",
    "# Get results\n",
    "results = formulate_optimization_problem(N, P_min, P_max, F_min, F_max)\n",
    "results\n"
   ]
  },
  {
   "cell_type": "code",
   "execution_count": null,
   "id": "bba63ff7-f3cd-47f3-a719-efbe2f31ca8d",
   "metadata": {},
   "outputs": [],
   "source": []
  }
 ],
 "metadata": {
  "kernelspec": {
   "display_name": "Python 3 (ipykernel)",
   "language": "python",
   "name": "python3"
  },
  "language_info": {
   "codemirror_mode": {
    "name": "ipython",
    "version": 3
   },
   "file_extension": ".py",
   "mimetype": "text/x-python",
   "name": "python",
   "nbconvert_exporter": "python",
   "pygments_lexer": "ipython3",
   "version": "3.9.13"
  }
 },
 "nbformat": 4,
 "nbformat_minor": 5
}
